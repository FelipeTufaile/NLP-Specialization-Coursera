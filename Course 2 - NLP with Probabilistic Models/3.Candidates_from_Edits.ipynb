{
  "cells": [
    {
      "cell_type": "markdown",
      "metadata": {
        "id": "view-in-github",
        "colab_type": "text"
      },
      "source": [
        "<a href=\"https://colab.research.google.com/github/FelipeTufaile/NLP-Specialization-Coursera/blob/main/Course%202%20-%20NLP%20with%20Probabilistic%20Models/Candidates_from_Edits.ipynb\" target=\"_parent\"><img src=\"https://colab.research.google.com/assets/colab-badge.svg\" alt=\"Open In Colab\"/></a>"
      ]
    },
    {
      "cell_type": "markdown",
      "metadata": {
        "id": "LH95vdvnq4uj"
      },
      "source": [
        "# NLP Course 2 Week 1 Lesson : Building The Model - Lecture Exercise 02\n",
        "Estimated Time: 20 minutes\n",
        "<br>\n",
        "# Candidates from String Edits\n",
        "Create a list of candidate strings by applying an edit operation\n",
        "<br>\n",
        "### Imports and Data"
      ]
    },
    {
      "cell_type": "code",
      "execution_count": 1,
      "metadata": {
        "id": "I528tVzuq4ul"
      },
      "outputs": [],
      "source": [
        "# data\n",
        "word = 'dearz' # 🦌"
      ]
    },
    {
      "cell_type": "markdown",
      "metadata": {
        "id": "p3VM7m-Wq4um"
      },
      "source": [
        "### Splits\n",
        "Find all the ways you can split a word into 2 parts !"
      ]
    },
    {
      "cell_type": "code",
      "execution_count": 2,
      "metadata": {
        "id": "IiRU0Egiq4um",
        "outputId": "219457a4-96f6-4a1b-93f9-fe292a505044",
        "colab": {
          "base_uri": "https://localhost:8080/"
        }
      },
      "outputs": [
        {
          "output_type": "stream",
          "name": "stdout",
          "text": [
            "['', 'dearz']\n",
            "['d', 'earz']\n",
            "['de', 'arz']\n",
            "['dea', 'rz']\n",
            "['dear', 'z']\n",
            "['dearz', '']\n"
          ]
        }
      ],
      "source": [
        "# splits with a loop\n",
        "splits_a = []\n",
        "for i in range(len(word)+1):\n",
        "    splits_a.append([word[:i],word[i:]])\n",
        "\n",
        "for i in splits_a:\n",
        "    print(i)"
      ]
    },
    {
      "cell_type": "code",
      "execution_count": 3,
      "metadata": {
        "id": "You8HjK_q4un",
        "outputId": "f3d80727-e6d0-420d-a259-58bdb58a3eb4",
        "colab": {
          "base_uri": "https://localhost:8080/"
        }
      },
      "outputs": [
        {
          "output_type": "stream",
          "name": "stdout",
          "text": [
            "('', 'dearz')\n",
            "('d', 'earz')\n",
            "('de', 'arz')\n",
            "('dea', 'rz')\n",
            "('dear', 'z')\n",
            "('dearz', '')\n"
          ]
        }
      ],
      "source": [
        "# same splits, done using a list comprehension\n",
        "splits_b = [(word[:i], word[i:]) for i in range(len(word) + 1)]\n",
        "\n",
        "for i in splits_b:\n",
        "    print(i)"
      ]
    },
    {
      "cell_type": "markdown",
      "metadata": {
        "id": "sq6R9xoaq4un"
      },
      "source": [
        "### Delete Edit\n",
        "Delete a letter from each string in the `splits` list.\n",
        "<br>\n",
        "What this does is effectively delete each possible letter from the original word being edited."
      ]
    },
    {
      "cell_type": "code",
      "execution_count": 4,
      "metadata": {
        "id": "sZrL25naq4un",
        "outputId": "37171108-6f26-4abd-cfa0-93a62ea1d21f",
        "colab": {
          "base_uri": "https://localhost:8080/"
        }
      },
      "outputs": [
        {
          "output_type": "stream",
          "name": "stdout",
          "text": [
            "word :  dearz\n",
            "earz  <-- delete  d\n",
            "darz  <-- delete  e\n",
            "derz  <-- delete  a\n",
            "deaz  <-- delete  r\n",
            "dear  <-- delete  z\n"
          ]
        }
      ],
      "source": [
        "# deletes with a loop\n",
        "splits = splits_a\n",
        "deletes = []\n",
        "\n",
        "print('word : ', word)\n",
        "for L,R in splits:\n",
        "    if R:\n",
        "        print(L + R[1:], ' <-- delete ', R[0])"
      ]
    },
    {
      "cell_type": "markdown",
      "metadata": {
        "id": "_A5JbB17q4un"
      },
      "source": [
        "It's worth taking a closer look at how this is excecuting a 'delete'.\n",
        "<br>\n",
        "Taking the first item from the `splits` list :"
      ]
    },
    {
      "cell_type": "code",
      "execution_count": 5,
      "metadata": {
        "id": "zXP7Cnhcq4uo",
        "outputId": "8970d0be-37de-4617-fb4a-b021ada43909",
        "colab": {
          "base_uri": "https://localhost:8080/"
        }
      },
      "outputs": [
        {
          "output_type": "stream",
          "name": "stdout",
          "text": [
            "word :  dearz\n",
            "first item from the splits list :  ['', 'dearz']\n",
            "L :  \n",
            "R :  dearz\n",
            "*** now implicit delete by excluding the leading letter ***\n",
            "L + R[1:] :  earz  <-- delete  d\n"
          ]
        }
      ],
      "source": [
        "# breaking it down\n",
        "print('word : ', word)\n",
        "one_split = splits[0]\n",
        "print('first item from the splits list : ', one_split)\n",
        "L = one_split[0]\n",
        "R = one_split[1]\n",
        "print('L : ', L)\n",
        "print('R : ', R)\n",
        "print('*** now implicit delete by excluding the leading letter ***')\n",
        "print('L + R[1:] : ',L + R[1:], ' <-- delete ', R[0])"
      ]
    },
    {
      "cell_type": "markdown",
      "metadata": {
        "id": "LAeFbQvVq4uo"
      },
      "source": [
        "So the end result transforms **'dearz'** to **'earz'** by deleting the first character.\n",
        "<br>\n",
        "And you use a **loop** (code block above) or a **list comprehension** (code block below) to do\n",
        "<br>\n",
        "this for the entire `splits` list."
      ]
    },
    {
      "cell_type": "code",
      "execution_count": 6,
      "metadata": {
        "id": "zHGISG-Mq4uo",
        "outputId": "03506a28-8fb4-4d65-b8fd-6e2579bb8066",
        "colab": {
          "base_uri": "https://localhost:8080/"
        }
      },
      "outputs": [
        {
          "output_type": "stream",
          "name": "stdout",
          "text": [
            "['earz', 'darz', 'derz', 'deaz', 'dear']\n",
            "*** which is the same as ***\n",
            "earz\n",
            "darz\n",
            "derz\n",
            "deaz\n",
            "dear\n"
          ]
        }
      ],
      "source": [
        "# deletes with a list comprehension\n",
        "splits = splits_a\n",
        "deletes = [L + R[1:] for L, R in splits if R]\n",
        "\n",
        "print(deletes)\n",
        "print('*** which is the same as ***')\n",
        "for i in deletes:\n",
        "    print(i)"
      ]
    },
    {
      "cell_type": "markdown",
      "metadata": {
        "id": "zH781sjyq4uo"
      },
      "source": [
        "### Ungraded Exercise\n",
        "You now have a list of ***candidate strings*** created after performing a **delete** edit.\n",
        "<br>\n",
        "Next step will be to filter this list for ***candidate words*** found in a vocabulary.\n",
        "<br>\n",
        "Given the example vocab below, can you think of a way to create a list of candidate words ?\n",
        "<br>\n",
        "Remember, you already have a list of candidate strings, some of which are certainly not actual words you might find in your vocabulary !\n",
        "<br>\n",
        "<br>\n",
        "So from the above list **earz, darz, derz, deaz, dear**.\n",
        "<br>\n",
        "You're really only interested in **dear**."
      ]
    },
    {
      "cell_type": "code",
      "execution_count": 7,
      "metadata": {
        "id": "jbwu3Z33q4up",
        "outputId": "d0a17054-4238-4abd-82bf-b418ae53cefb",
        "colab": {
          "base_uri": "https://localhost:8080/"
        }
      },
      "outputs": [
        {
          "output_type": "stream",
          "name": "stdout",
          "text": [
            "vocab :  ['dean', 'deer', 'dear', 'fries', 'and', 'coke']\n",
            "edits :  ['earz', 'darz', 'derz', 'deaz', 'dear']\n",
            "candidate words :  {'dear'}\n"
          ]
        }
      ],
      "source": [
        "vocab = ['dean','deer','dear','fries','and','coke']\n",
        "edits = list(deletes)\n",
        "\n",
        "print('vocab : ', vocab)\n",
        "print('edits : ', edits)\n",
        "\n",
        "candidates=[]\n",
        "\n",
        "### START CODE HERE ###\n",
        "candidates = set(edits).intersection(set(vocab))\n",
        "### END CODE HERE ###\n",
        "\n",
        "print('candidate words : ', candidates)"
      ]
    },
    {
      "cell_type": "markdown",
      "metadata": {
        "id": "7LPT0-eKq4up"
      },
      "source": [
        "Expected Outcome:\n",
        "\n",
        "vocab :  ['dean', 'deer', 'dear', 'fries', 'and', 'coke']\n",
        "<br>\n",
        "edits :  ['earz', 'darz', 'derz', 'deaz', 'dear']\n",
        "<br>\n",
        "candidate words :  {'dear'}"
      ]
    },
    {
      "cell_type": "markdown",
      "metadata": {
        "id": "8JQYEaTNq4up"
      },
      "source": [
        "### Summary\n",
        "You've unpacked an integral part of the assignment by breaking down **splits** and **edits**, specifically looking at **deletes** here.\n",
        "<br>\n",
        "Implementation of the other edit types (insert, replace, switch) follows a similar methodology and should now feel somewhat familiar when you see them.\n",
        "<br>\n",
        "This bit of the code isn't as intuitive as other sections, so well done!\n",
        "<br>\n",
        "You should now feel confident facing some of the more technical parts of the assignment at the end of the week."
      ]
    }
  ],
  "metadata": {
    "kernelspec": {
      "display_name": "Python 3",
      "language": "python",
      "name": "python3"
    },
    "language_info": {
      "codemirror_mode": {
        "name": "ipython",
        "version": 3
      },
      "file_extension": ".py",
      "mimetype": "text/x-python",
      "name": "python",
      "nbconvert_exporter": "python",
      "pygments_lexer": "ipython3",
      "version": "3.7.6"
    },
    "colab": {
      "provenance": [],
      "include_colab_link": true
    }
  },
  "nbformat": 4,
  "nbformat_minor": 0
}
